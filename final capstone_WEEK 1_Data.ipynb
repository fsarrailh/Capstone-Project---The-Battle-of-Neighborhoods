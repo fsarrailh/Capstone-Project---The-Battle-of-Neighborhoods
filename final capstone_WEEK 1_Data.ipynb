{
 "cells": [
  {
   "cell_type": "markdown",
   "metadata": {},
   "source": [
    "# **Capstone Project: Find Best City and Neighborhood to set a Bakery Shop business**\n",
    "### Applied Data Science Capstone by IBM/Coursera"
   ]
  },
  {
   "cell_type": "markdown",
   "metadata": {},
   "source": [
    "## WEEK 1: Introduction & Data Description"
   ]
  },
  {
   "cell_type": "markdown",
   "metadata": {},
   "source": [
    "## Data Description <a name=\"data\"></a>"
   ]
  },
  {
   "cell_type": "markdown",
   "metadata": {},
   "source": [
    "Based on definition of our problem, factors that will influence our decission are:\n",
    "* more crowded and better income per capita cities in the US\n",
    "* number of existing food venues in each neighborhood (we will consider only the top 10 venues)\n",
    "* any Bakery in the top 10 in the neighborhood ?\n",
    "* distance of neighborhood from city center\n",
    "\n",
    "Following data sources will be needed to extract/generate the required information:\n",
    "* top populated US cities with better per capita income, will be obtained by **web scrapping** using BeautifulSoup\n",
    "* neighborhoods in the chosen cities, will be obtained by **Wikipedia web scrapping** using BeautifulSoup\n",
    "* cities and neighborhoods location data, will be obtained using **Nominatim geocoding**\n",
    "* number of venues and their type and location in every neighborhood will be obtained using **Foursquare API**\n",
    "* representation maps using **Folium**\n",
    "* representation graphs using **Plotly and Matplotlib**"
   ]
  }
 ],
 "metadata": {
  "kernelspec": {
   "display_name": "Python 3",
   "language": "python",
   "name": "python3"
  },
  "language_info": {
   "codemirror_mode": {
    "name": "ipython",
    "version": 3
   },
   "file_extension": ".py",
   "mimetype": "text/x-python",
   "name": "python",
   "nbconvert_exporter": "python",
   "pygments_lexer": "ipython3",
   "version": "3.8.3"
  }
 },
 "nbformat": 4,
 "nbformat_minor": 4
}
