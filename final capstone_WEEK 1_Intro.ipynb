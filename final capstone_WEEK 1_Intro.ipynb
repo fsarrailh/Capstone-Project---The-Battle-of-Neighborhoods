{
 "cells": [
  {
   "cell_type": "markdown",
   "metadata": {},
   "source": [
    "# **Capstone Project: Find Best City and Neighborhood to set a Bakery Shop business**\n",
    "### Applied Data Science Capstone by IBM/Coursera"
   ]
  },
  {
   "cell_type": "markdown",
   "metadata": {},
   "source": [
    "## WEEK 1: Introduction & Data Description"
   ]
  },
  {
   "cell_type": "markdown",
   "metadata": {},
   "source": [
    "## Introduction: Business Under Study <a name=\"introduction\"></a>"
   ]
  },
  {
   "cell_type": "markdown",
   "metadata": {},
   "source": [
    "In this project we advise an investor who is trying to find out where to open a **Bakery Shop in the United States**. He wants to find the **best city in terms of population and income per capita**, where he knows the people spends more; and then compare neighborhoods and their venues to decide where to put his store.\n",
    "\n",
    "This is where we come into play...\n",
    "\n",
    "It is not unreasonable to suppose there are lots of food venues in big cities centers, so we will try to detect **locations that are not already crowded with them**. We are also particularly interested in **neighborhoods with less/no bakeries in it**. We would also prefer locations **as close to city center as possible**, assuming that first two conditions are met.\n",
    "\n",
    "We will use our data science powers to determine the best cities and the most promissing neighborhoods based on this criteria. Advantages of each area will then be expressed so that best possible final location can be chosen by our investor.\n",
    "\n",
    "Beyond:\n",
    "Perhaps in a deeper analysis we will have to consider to expand to more cities under study, and prefer the neighborhoods where there is a lower real estate cost. Besides, to make focus only in bakeries and calculate their distances to city center and distances between each other. May another analysis could also include which neighborhoods people are most likely to spend on food.\n",
    "For simplicity, the above is not considered in this work."
   ]
  }
 ],
 "metadata": {
  "kernelspec": {
   "display_name": "Python 3",
   "language": "python",
   "name": "python3"
  },
  "language_info": {
   "codemirror_mode": {
    "name": "ipython",
    "version": 3
   },
   "file_extension": ".py",
   "mimetype": "text/x-python",
   "name": "python",
   "nbconvert_exporter": "python",
   "pygments_lexer": "ipython3",
   "version": "3.8.3"
  }
 },
 "nbformat": 4,
 "nbformat_minor": 4
}
